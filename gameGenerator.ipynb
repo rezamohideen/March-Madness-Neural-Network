{
 "cells": [
  {
   "cell_type": "code",
   "execution_count": 15,
   "metadata": {},
   "outputs": [],
   "source": [
    "from requests import get\n",
    "import urllib.request\n",
    "from bs4 import BeautifulSoup\n",
    "import pandas as pd\n",
    "import csv\n",
    "from time import sleep\n",
    "from random import randint\n",
    "from time import time\n",
    "from IPython.core.display import clear_output\n",
    "import re\n",
    "from tqdm import tqdm\n",
    "from dateutil.parser import parse\n",
    "import os"
   ]
  },
  {
   "cell_type": "code",
   "execution_count": 18,
   "metadata": {},
   "outputs": [
    {
     "name": "stdout",
     "output_type": "stream",
     "text": [
      "Team #: 351/351; Year: 2018; Completion: 1.0%%\r"
     ]
    }
   ],
   "source": [
    "winCount = 0\n",
    "lossCount = 0\n",
    "TRAIN_DIR = 'D:/PycharmProjects/marchMadness/train'\n",
    "#print(year)\n",
    "for year in range(2005,2019):\n",
    "    TEAM_DIR = 'D:/PycharmProjects/marchMadness/teams/' + str(year) + '/'\n",
    "    teamFiles = []\n",
    "    teams = []\n",
    "    for team in os.listdir(TEAM_DIR):\n",
    "        #print(team)\n",
    "        if team.split('.')[1] == 'csv':\n",
    "            teamFiles.append(team)\n",
    "            teams.append(team.split('.')[0])\n",
    "    #print(teamFiles)\n",
    "\n",
    "    for file in teamFiles:\n",
    "        \n",
    "        f = TEAM_DIR + file\n",
    "        teamName = file\n",
    "        rows = 0\n",
    "                   \n",
    "        with open(f) as csvfile:\n",
    "            readCSV = csv.reader(csvfile, delimiter=',')\n",
    "            cGame = []\n",
    "            cDates = []\n",
    "            cOpponent = []\n",
    "            cTm = []\n",
    "            cOpp = []\n",
    "            cPdf = []\n",
    "            cPf = []\n",
    "            cPa = []\n",
    "            for row in readCSV:\n",
    "                if row[0] != 'G':\n",
    "                    cGame.append(int(row[0]))\n",
    "                    dt = parse(row[1])\n",
    "                    cDates.append(dt)\n",
    "                    cOpponent.append(row[2])\n",
    "                    cTm.append(int(row[3]))\n",
    "                    cOpp.append(int(row[4]))\n",
    "                    cPdf.append((row[5]))\n",
    "                    cPf.append((row[6]))\n",
    "                    cPa.append((row[7]))\n",
    "                    rows += 1\n",
    "\n",
    "        cTeam = {'game': cGame,'date':cDates,'opponent': cOpponent,'tm': cTm,'opp': cOpp,'pdf': cPdf,'pf': cPf,'pa': cPa}\n",
    "        #print(cTeam)\n",
    "\n",
    "        for game in range(1,rows):\n",
    "            opponent = cTeam['opponent'][game]\n",
    "            opponent = ''.join([i for i in opponent if not i.isdigit()])\n",
    "            opponent = opponent.rstrip()\n",
    "            date = cTeam['date'][game]\n",
    "            score = [cTeam['tm'][game],cTeam['opp'][game]]\n",
    "            if score[0] > score[1]:\n",
    "                label = 'win'\n",
    "            else:\n",
    "                label = 'loss'\n",
    "            score = [str(cTeam['tm'][game]),str(cTeam['opp'][game])]\n",
    "            cStats = [cTeam['pdf'][game-1],cTeam['pf'][game-1],cTeam['pa'][game-1]]\n",
    "            #print(cStats)\n",
    "            try:\n",
    "                with open(TEAM_DIR + opponent + '.csv') as csvfile:\n",
    "                    readCSV = csv.reader(csvfile, delimiter=',')\n",
    "                    for row in readCSV:\n",
    "                        if row[0] != 'G':\n",
    "                            if parse(row[1]) == date:\n",
    "                                oppGame = int(row[0])\n",
    "                                oppGame -= 1\n",
    "                                oppGame = str(oppGame)\n",
    "                                with open(TEAM_DIR + opponent + '.csv') as oppfile:\n",
    "                                    oppCSV = csv.reader(oppfile, delimiter=',')\n",
    "                                    for oppRow in oppCSV:\n",
    "                                        if oppRow[0] == oppGame:\n",
    "                                            oppStats = [oppRow[5],oppRow[6],oppRow[7]]\n",
    "            except FileNotFoundError:\n",
    "                continue\n",
    "\n",
    "                                    #print(oppStats)\n",
    "            finalFile = [cStats,oppStats,score]\n",
    "            #print(finalFile)\n",
    "            if label == 'win':\n",
    "                with open(TRAIN_DIR + '/' + label + '.' + str(winCount) + '.' + teamName.split('.')[0] + '.' + str(game+1)+ '.' + str(year) + '.csv', 'w') as csvFile:\n",
    "                    writer = csv.writer(csvFile, lineterminator = '\\n')\n",
    "                    writer.writerows(finalFile)\n",
    "                    winCount += 1\n",
    "                csvFile.close()\n",
    "\n",
    "            elif label == 'loss':\n",
    "                with open(TRAIN_DIR + '/' + label + '.' + str(lossCount) + '.' + teamName.split('.')[0] + '.' + str(game+1)+ '.' + str(year) + '.csv', 'w') as csvFile:\n",
    "                    writer = csv.writer(csvFile, lineterminator = '\\n')\n",
    "                    writer.writerows(finalFile)\n",
    "                    lossCount += 1\n",
    "                csvFile.close()\n",
    "\n",
    "        print('Team #: {}/{}; Year: {}; Completion: {}%'.format(teamFiles.index(file)+1,len(teamFiles),year,round(((teamFiles.index(file)/len(teamFiles))*((year-2004)/14)),2)), end='\\r')\n"
   ]
  },
  {
   "cell_type": "code",
   "execution_count": null,
   "metadata": {},
   "outputs": [],
   "source": []
  },
  {
   "cell_type": "code",
   "execution_count": null,
   "metadata": {},
   "outputs": [],
   "source": []
  },
  {
   "cell_type": "code",
   "execution_count": null,
   "metadata": {},
   "outputs": [],
   "source": []
  },
  {
   "cell_type": "code",
   "execution_count": null,
   "metadata": {},
   "outputs": [],
   "source": []
  },
  {
   "cell_type": "code",
   "execution_count": null,
   "metadata": {},
   "outputs": [],
   "source": []
  },
  {
   "cell_type": "code",
   "execution_count": null,
   "metadata": {},
   "outputs": [],
   "source": []
  },
  {
   "cell_type": "code",
   "execution_count": null,
   "metadata": {},
   "outputs": [],
   "source": []
  }
 ],
 "metadata": {
  "kernelspec": {
   "display_name": "Python 3",
   "language": "python",
   "name": "python3"
  },
  "language_info": {
   "codemirror_mode": {
    "name": "ipython",
    "version": 3
   },
   "file_extension": ".py",
   "mimetype": "text/x-python",
   "name": "python",
   "nbconvert_exporter": "python",
   "pygments_lexer": "ipython3",
   "version": "3.6.4"
  }
 },
 "nbformat": 4,
 "nbformat_minor": 2
}
